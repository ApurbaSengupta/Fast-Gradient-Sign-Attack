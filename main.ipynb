{
 "cells": [
  {
   "cell_type": "code",
   "execution_count": 0,
   "metadata": {
    "colab": {},
    "colab_type": "code",
    "id": "27q1gU91a9CV"
   },
   "outputs": [],
   "source": [
    "import torch\n",
    "import torch.nn as nn\n",
    "import torch.nn.functional as F\n",
    "import torch.optim as optim\n",
    "from torchvision import datasets, transforms\n",
    "from torch.autograd import Variable\n",
    "import numpy as np\n",
    "import matplotlib.pyplot as plt\n",
    "\n",
    "# set batch size\n",
    "batch_size = 100\n",
    "\n",
    "# download and transform train dataset\n",
    "train_loader = torch.utils.data.DataLoader(datasets.MNIST('../mnist_data', download=True, train=True, transform=transforms.Compose([transforms.ToTensor(), transforms.Normalize((0.5,), (0.5,))])), batch_size=batch_size, shuffle=True)\n",
    "\n",
    "# download and transform test dataset\n",
    "test_loader = torch.utils.data.DataLoader(datasets.MNIST('../mnist_data', download=True, train=False, transform=transforms.Compose([transforms.ToTensor(), transforms.Normalize((0.5,), (0.5,))])), batch_size=batch_size, shuffle=True)\n",
    "\n",
    "# set training epochs\n",
    "training_epochs = 20"
   ]
  },
  {
   "cell_type": "code",
   "execution_count": 0,
   "metadata": {
    "colab": {},
    "colab_type": "code",
    "id": "GehuHwXDhMQu"
   },
   "outputs": [],
   "source": [
    "# define cnn architecture\n",
    "class CNN_MNIST(nn.Module):\n",
    "    \n",
    "    def __init__(self):\n",
    "        \n",
    "        super(CNN_MNIST, self).__init__()\n",
    "        self.conv1 = nn.Conv2d(1, 32, kernel_size=3, stride=1, padding=1)\n",
    "        self.conv2 = nn.Conv2d(32, 64, kernel_size=3, stride=2, padding=1)\n",
    "        self.conv3 = nn.Conv2d(64, 128, kernel_size=3, stride=2, padding=1)\n",
    "        self.conv4 = nn.Conv2d(128, 128, kernel_size=3, stride=2, padding=1)\n",
    "        self.conv5 = nn.Conv2d(128, 128, kernel_size=3, stride=2, padding=1)        \n",
    "        self.fc6 = nn.Linear(2*2*128, 100)\n",
    "        self.fc7 = nn.Linear(100, 10)\n",
    "    \n",
    "    def forward(self, x):\n",
    "        \n",
    "        out = F.relu(self.conv1(x))\n",
    "        out = F.relu(self.conv2(out))\n",
    "        out = F.relu(self.conv3(out))\n",
    "        out = F.relu(self.conv4(out))\n",
    "        out = F.relu(self.conv5(out))\n",
    "        out = out.view(-1, 2*2*128)\n",
    "        out = F.relu(self.fc6(out))\n",
    "        out = self.fc7(out)\n",
    "        \n",
    "        return F.log_softmax(out, dim=1)"
   ]
  },
  {
   "cell_type": "code",
   "execution_count": 0,
   "metadata": {
    "colab": {},
    "colab_type": "code",
    "id": "9DeuVj0lhXrU"
   },
   "outputs": [],
   "source": [
    "# train and test model\n",
    "def Q2_part_1():\n",
    "\n",
    "  cnn = CNN_MNIST()\n",
    "  cnn = cnn.cuda()\n",
    "  \n",
    "  optimizer = optim.Adam(cnn.parameters(), lr=0.001)\n",
    "\n",
    "  train_accuracy_list = []\n",
    "  test_accuracy_list = []\n",
    "  \n",
    "  for epoch in range(training_epochs):\n",
    "    \n",
    "    train_correct = 0\n",
    "    test_correct = 0\n",
    "    \n",
    "    # training\n",
    "    for idx, (data, label) in enumerate(train_loader):\n",
    "      \n",
    "      cnn.train()\n",
    "      \n",
    "      data = Variable(data)\n",
    "      label = Variable(label)\n",
    "      \n",
    "      data = data.cuda()\n",
    "      label = label.cuda()\n",
    "      \n",
    "      optimizer.zero_grad()\n",
    "      logits = cnn(data)\n",
    "      loss = F.nll_loss(logits, label)\n",
    "      loss.backward()\n",
    "      optimizer.step()\n",
    "      \n",
    "      _, pred = torch.max(logits.data, 1)\n",
    "      train_correct += (pred==label).sum().item()\n",
    "    \n",
    "    # testing\n",
    "    for idx, (data, label) in enumerate(test_loader):\n",
    "      \n",
    "      cnn.eval()\n",
    "      \n",
    "      data = Variable(data)\n",
    "      label = Variable(label)\n",
    "      \n",
    "      data = data.cuda()\n",
    "      label = label.cuda()\n",
    "      \n",
    "      with torch.no_grad():\n",
    "        logits = cnn(data)\n",
    "      \n",
    "      _, pred = torch.max(logits.data, 1)\n",
    "      test_correct += (pred==label).sum().item()\n",
    "    \n",
    "    train_accuracy = float(train_correct)/len(train_loader.dataset)\n",
    "    train_accuracy_list.append(train_accuracy)\n",
    "    \n",
    "    test_accuracy = float(test_correct)/len(test_loader.dataset)\n",
    "    test_accuracy_list.append(test_accuracy)\n",
    "    \n",
    "    if(epoch % 4 == 0):\n",
    "      print(\"\\nEpoch: \", epoch+1, \", Training Accuracy: \", train_accuracy, \", Test Accuracy: \", test_accuracy, \"\\n\")\n",
    "  \n",
    "  print(\"\\nFinal Test Accuracy: \", test_accuracy)\n",
    "  \n",
    "  return cnn, train_accuracy_list, test_accuracy_list"
   ]
  },
  {
   "cell_type": "code",
   "execution_count": 103,
   "metadata": {
    "colab": {
     "base_uri": "https://localhost:8080/",
     "height": 650
    },
    "colab_type": "code",
    "id": "xmYZYkbHh3Im",
    "outputId": "da98acff-173e-48b1-fbdc-a1149de041e3"
   },
   "outputs": [
    {
     "name": "stdout",
     "output_type": "stream",
     "text": [
      "\n",
      "Epoch:  1 , Training Accuracy:  0.9250666666666667 , Test Accuracy:  0.9804 \n",
      "\n",
      "\n",
      "Epoch:  5 , Training Accuracy:  0.9923 , Test Accuracy:  0.9882 \n",
      "\n",
      "\n",
      "Epoch:  9 , Training Accuracy:  0.9948166666666667 , Test Accuracy:  0.9898 \n",
      "\n",
      "\n",
      "Epoch:  13 , Training Accuracy:  0.9967166666666667 , Test Accuracy:  0.9896 \n",
      "\n",
      "\n",
      "Epoch:  17 , Training Accuracy:  0.9975666666666667 , Test Accuracy:  0.9906 \n",
      "\n",
      "\n",
      "Final Test Accuracy:  0.9884\n"
     ]
    },
    {
     "data": {
      "image/png": "[encoded data removed]",
      "text/plain": [
       "<matplotlib.figure.Figure at 0x7fbc4d4996a0>"
      ]
     },
     "metadata": {
      "tags": []
     },
     "output_type": "display_data"
    }
   ],
   "source": [
    "model, train_accuracy_list, test_accuracy_list = Q2_part_1() \n",
    "\n",
    "plt.subplot(1, 2, 1)        \n",
    "plt.plot(np.arange(len(train_accuracy_list))+1, train_accuracy_list)\n",
    "plt.xlabel(\"Number of epochs\")\n",
    "plt.ylabel(\"Training accuracy\")\n",
    "\n",
    "plt.subplot(1, 2, 2)        \n",
    "plt.plot(np.arange(len(test_accuracy_list))+1, test_accuracy_list)\n",
    "plt.xlabel(\"Number of epochs\")\n",
    "plt.ylabel(\"Test accuracy\")\n",
    "\n",
    "plt.show()"
   ]
  },
  {
   "cell_type": "code",
   "execution_count": 0,
   "metadata": {
    "colab": {},
    "colab_type": "code",
    "id": "9FKMsLW-2Dei"
   },
   "outputs": [],
   "source": [
    "test_loader_2 = torch.utils.data.DataLoader(datasets.MNIST('../mnist_data', download=True, train=False, transform=transforms.Compose([transforms.ToTensor(), transforms.Normalize((0.5,), (0.5,))])), batch_size=1, shuffle=True)"
   ]
  },
  {
   "cell_type": "code",
   "execution_count": 0,
   "metadata": {
    "colab": {},
    "colab_type": "code",
    "id": "0SpdJOPesHen"
   },
   "outputs": [],
   "source": [
    "# define untargeted fast gradient sign attack pertubations\n",
    "def fgsm_untargeted(image, epsilon, data_grad):\n",
    "\n",
    "\tperturbed_image = image + epsilon*data_grad.sign()\n",
    "\n",
    "\tperturbed_image = torch.clamp(perturbed_image, -1.0, 1.0)\n",
    "\n",
    "\treturn perturbed_image"
   ]
  },
  {
   "cell_type": "code",
   "execution_count": 0,
   "metadata": {
    "colab": {},
    "colab_type": "code",
    "id": "vnNPA348sOmK"
   },
   "outputs": [],
   "source": [
    "# get adversarial images from untargeted FGSM attack\n",
    "def adversarial_untargeted(model, test_loader, epsilon):\n",
    "  \n",
    "  model.eval()\n",
    "  \n",
    "  adversarials = []\n",
    "  originals = []\n",
    "  predictions = []\n",
    "  confidences = []\n",
    "  truths = []\n",
    "  \n",
    "  for data, label in test_loader:\n",
    "    \n",
    "    data = data.cuda()\n",
    "    label = label.cuda()\n",
    "    \n",
    "    true_data = data.clone()\n",
    "    \n",
    "    out = model(data)\n",
    "    _, pred = torch.max(out.data, 1)\n",
    "    \n",
    "    # generate adversarial images for correctly classified images\n",
    "    if(pred.item() == label.item() and (len(adversarials) < 5)):\n",
    "      \n",
    "      prob = 0\n",
    "      \n",
    "      data.requires_grad = True\n",
    "      \n",
    "      while(prob < 0.9):\n",
    "        \n",
    "        out = model(data)\n",
    "        \n",
    "        loss = F.nll_loss(out, label)\n",
    "\n",
    "        model.zero_grad()\n",
    "\n",
    "        loss.backward()\n",
    "\n",
    "        data_grad = data.grad.data\n",
    "\n",
    "        perturbed_image = fgsm_untargeted(data, epsilon, data_grad)\n",
    "\n",
    "        out2 = model(perturbed_image)\n",
    "\n",
    "        _, pred2 = torch.max(out2.data, 1)\n",
    "\n",
    "        confidence = F.softmax(out2, dim=1)[0][pred2].data.cpu().numpy()[0]\n",
    "        \n",
    "        prob = confidence\n",
    "        \n",
    "        data = Variable(perturbed_image, requires_grad=True)\n",
    "        \n",
    "        if((pred2.item() != label.item()) and (confidence >= 0.9)):\n",
    "          adversarials.append(perturbed_image.squeeze().detach().cpu().numpy())\n",
    "          originals.append(true_data.squeeze().detach().cpu().numpy())\n",
    "          predictions.append(pred2.item())\n",
    "          confidences.append(confidence.item())\n",
    "          truths.append(label.item())\n",
    "          break\n",
    "          \n",
    "      if(len(adversarials) == 10):\n",
    "        break    \n",
    "      \n",
    "  return adversarials, originals, predictions, confidences, truths    "
   ]
  },
  {
   "cell_type": "code",
   "execution_count": 0,
   "metadata": {
    "colab": {},
    "colab_type": "code",
    "id": "mtuDR1UZvWz8"
   },
   "outputs": [],
   "source": [
    "adversarials_1, originals_1, predictions_1, confidences_1, truths_1 = adversarial_untargeted(model, test_loader_2, 0.09)"
   ]
  },
  {
   "cell_type": "code",
   "execution_count": 117,
   "metadata": {
    "colab": {
     "base_uri": "https://localhost:8080/",
     "height": 68
    },
    "colab_type": "code",
    "id": "N0WVUYmvBKVS",
    "outputId": "b5b1b490-402e-4e22-d0d1-a804dd1099a4"
   },
   "outputs": [
    {
     "name": "stdout",
     "output_type": "stream",
     "text": [
      "Original image with label  1  is predicted as  2  with confidence of  0.99997878074646\n",
      "Original image with label  2  is predicted as  8  with confidence of  0.9185450673103333\n",
      "Original image with label  6  is predicted as  8  with confidence of  0.9875827431678772\n"
     ]
    }
   ],
   "source": [
    "# check first 3 adversarial images\n",
    "for i in range(len(adversarials_1[:3])):\n",
    "  print(\"Original image with label \", truths_1[i], \" is predicted as \", predictions_1[i], \" with confidence of \", confidences_1[i])"
   ]
  },
  {
   "cell_type": "code",
   "execution_count": 118,
   "metadata": {
    "colab": {
     "base_uri": "https://localhost:8080/",
     "height": 134
    },
    "colab_type": "code",
    "id": "-K9TyvfkPk9K",
    "outputId": "b76b3b74-9f17-463e-c5da-8b243fae2b22"
   },
   "outputs": [
    {
     "data": {
      "image/png": "[encoded data removed]",
      "text/plain": [
       "<matplotlib.figure.Figure at 0x7fbc61a3a400>"
      ]
     },
     "metadata": {
      "tags": []
     },
     "output_type": "display_data"
    }
   ],
   "source": [
    "cnt = 0\n",
    "\n",
    "plt.figure(figsize=(5,5))\n",
    "\n",
    "for j in range(len(adversarials_1[:3])):\n",
    "  cnt += 1\n",
    "  plt.subplot(2,len(adversarials_1[:3]),cnt)\n",
    "  plt.xticks([], [])\n",
    "  plt.yticks([], [])\n",
    "  ex = adversarials_1[j]\n",
    "  plt.imshow(ex, cmap=\"gray\")\n",
    "plt.tight_layout()\n",
    "plt.show()"
   ]
  },
  {
   "cell_type": "code",
   "execution_count": 0,
   "metadata": {
    "colab": {},
    "colab_type": "code",
    "id": "QhlADWd_XalQ"
   },
   "outputs": [],
   "source": [
    "# define targeted fast gradient sign attack pertubations\n",
    "def fgsm_targeted(image, epsilon, data_grad):\n",
    "\n",
    "\tperturbed_image = image - epsilon*data_grad.sign()\n",
    "\n",
    "\tperturbed_image = torch.clamp(perturbed_image, -1.0, 1.0)\n",
    "\n",
    "\treturn perturbed_image"
   ]
  },
  {
   "cell_type": "code",
   "execution_count": 0,
   "metadata": {
    "colab": {},
    "colab_type": "code",
    "id": "xQkawEQ-Syog"
   },
   "outputs": [],
   "source": [
    "# get adversarial images from targeted FGSM attack\n",
    "def adversarial_targeted(model, test_loader, epsilon):\n",
    "  \n",
    "  model.eval()\n",
    "  \n",
    "  adversarials = []\n",
    "  originals = []\n",
    "  predictions = []\n",
    "  confidences = []\n",
    "  truths = []\n",
    "  \n",
    "  for data, label in test_loader:\n",
    "    \n",
    "    data = data.cuda()\n",
    "    label = label.cuda()\n",
    "    \n",
    "    true_data = data.clone()\n",
    "    \n",
    "    target = Variable(torch.Tensor([7])).long()\n",
    "    target = target.cuda()\n",
    "    \n",
    "    out = model(data)\n",
    "    _, pred = torch.max(out.data, 1)\n",
    "    \n",
    "    # generate adversarial images for correctly classified images\n",
    "    if((pred.item() == label.item()) and (label.item() != 7)):\n",
    "      \n",
    "      prob = 0\n",
    "      \n",
    "      data.requires_grad = True\n",
    "      \n",
    "      while(prob < 0.9):\n",
    "        \n",
    "        out = model(data)\n",
    "        \n",
    "        loss = F.nll_loss(out, target)\n",
    "\n",
    "        model.zero_grad()\n",
    "\n",
    "        loss.backward()\n",
    "\n",
    "        data_grad = data.grad.data\n",
    "\n",
    "        perturbed_image = fgsm_targeted(data, epsilon, data_grad)\n",
    "\n",
    "        out2 = model(perturbed_image)\n",
    "\n",
    "        _, pred2 = torch.max(out2.data, 1)\n",
    "\n",
    "        confidence = F.softmax(out2, dim=1)[0][pred2].data.cpu().numpy()[0]\n",
    "        \n",
    "        prob = confidence\n",
    "        \n",
    "        data = Variable(perturbed_image, requires_grad=True)\n",
    "        \n",
    "        if((pred2.item() == target.item()) and confidence >= 0.9):\n",
    "          adversarials.append(perturbed_image.squeeze().detach().cpu().numpy())\n",
    "          originals.append(true_data.squeeze().detach().cpu().numpy())\n",
    "          predictions.append(pred2.item())\n",
    "          confidences.append(confidence.item())\n",
    "          truths.append(label.item())\n",
    "          \n",
    "      if(len(adversarials) == 10):\n",
    "        break    \n",
    "      \n",
    "  return adversarials, originals, predictions, confidences, truths    "
   ]
  },
  {
   "cell_type": "code",
   "execution_count": 0,
   "metadata": {
    "colab": {},
    "colab_type": "code",
    "id": "bQchHSy9UIyF"
   },
   "outputs": [],
   "source": [
    "adversarials_2, originals_2, predictions_2, confidences_2, truths_2 = adversarial_targeted(model, test_loader_2, 0.09)"
   ]
  },
  {
   "cell_type": "code",
   "execution_count": 123,
   "metadata": {
    "colab": {
     "base_uri": "https://localhost:8080/",
     "height": 68
    },
    "colab_type": "code",
    "id": "9Xa7zo47UVQP",
    "outputId": "69c386c9-90de-48d3-dcab-8abf383b7763"
   },
   "outputs": [
    {
     "name": "stdout",
     "output_type": "stream",
     "text": [
      "Original image with label  9  is predicted as  7  with confidence of  0.9871550798416138\n",
      "Original image with label  2  is predicted as  7  with confidence of  0.9981378316879272\n",
      "Original image with label  2  is predicted as  7  with confidence of  0.9910991787910461\n"
     ]
    }
   ],
   "source": [
    "# check first 3 adversarial images\n",
    "for i in range(len(adversarials_1[:3])):\n",
    "  print(\"Original image with label \", truths_2[i], \" is predicted as \", predictions_2[i], \" with confidence of \", confidences_2[i])"
   ]
  },
  {
   "cell_type": "code",
   "execution_count": 124,
   "metadata": {
    "colab": {
     "base_uri": "https://localhost:8080/",
     "height": 134
    },
    "colab_type": "code",
    "id": "15MzAORcUWAA",
    "outputId": "0a94de70-138a-4442-8984-4a593f0ab2d1"
   },
   "outputs": [
    {
     "data": {
      "image/png": "[encoded data removed]",
      "text/plain": [
       "<matplotlib.figure.Figure at 0x7fbc61c52c50>"
      ]
     },
     "metadata": {
      "tags": []
     },
     "output_type": "display_data"
    }
   ],
   "source": [
    "cnt = 0\n",
    "\n",
    "plt.figure(figsize=(5,5))\n",
    "\n",
    "for j in range(len(adversarials_2[:3])):\n",
    "  cnt += 1\n",
    "  plt.subplot(2,len(adversarials_2[:3]),cnt)\n",
    "  plt.xticks([], [])\n",
    "  plt.yticks([], [])\n",
    "  ex = adversarials_2[j]\n",
    "  plt.imshow(ex, cmap=\"gray\")\n",
    "plt.tight_layout()\n",
    "plt.show()"
   ]
  }
 ],
 "metadata": {
  "accelerator": "GPU",
  "colab": {
   "collapsed_sections": [],
   "name": "cnn_mnist_relu_and_adversarial.ipynb",
   "provenance": [],
   "version": "0.3.2"
  },
  "kernelspec": {
   "display_name": "Python 3",
   "language": "python",
   "name": "python3"
  },
  "language_info": {
   "codemirror_mode": {
    "name": "ipython",
    "version": 3
   },
   "file_extension": ".py",
   "mimetype": "text/x-python",
   "name": "python",
   "nbconvert_exporter": "python",
   "pygments_lexer": "ipython3",
   "version": "3.6.6"
  }
 },
 "nbformat": 4,
 "nbformat_minor": 1
}
